{
  "nbformat": 4,
  "nbformat_minor": 0,
  "metadata": {
    "colab": {
      "provenance": [],
      "authorship_tag": "ABX9TyP8wgMoT8f7J+sOXa/f/hpo",
      "include_colab_link": true
    },
    "kernelspec": {
      "name": "python3",
      "display_name": "Python 3"
    },
    "language_info": {
      "name": "python"
    }
  },
  "cells": [
    {
      "cell_type": "markdown",
      "metadata": {
        "id": "view-in-github",
        "colab_type": "text"
      },
      "source": [
        "<a href=\"https://colab.research.google.com/github/yudumpacin/LLM/blob/main/TurkishGaripPoemLLM_1.ipynb\" target=\"_parent\"><img src=\"https://colab.research.google.com/assets/colab-badge.svg\" alt=\"Open In Colab\"/></a>"
      ]
    },
    {
      "cell_type": "markdown",
      "source": [
        "# Garip Hareketi Şiirleri ile LLM Eğitimi ve İnce Ayarlama - Part 1"
      ],
      "metadata": {
        "id": "ixMluc0ewIUe"
      }
    },
    {
      "cell_type": "markdown",
      "source": [
        "## Web Scrabing ile Şiirlerin Toplanması"
      ],
      "metadata": {
        "id": "UvkwCcAhzsel"
      }
    },
    {
      "cell_type": "code",
      "source": [
        "import requests\n",
        "from bs4 import BeautifulSoup as bs\n",
        "import re\n",
        "\n",
        "!pip install selenium\n",
        "!apt-get update # to update ubuntu to correctly run apt install\n",
        "!apt install chromium-chromedriver\n",
        "!cp /usr/lib/chromium-browser/chromedriver /usr/bin\n",
        "import sys\n",
        "sys.path.insert(0,'/usr/lib/chromium-browser/chromedriver')"
      ],
      "metadata": {
        "colab": {
          "base_uri": "https://localhost:8080/"
        },
        "id": "qyaNBVKowHyQ",
        "outputId": "eacea523-cc06-40dd-b2dc-8843e93cd6cb"
      },
      "execution_count": null,
      "outputs": [
        {
          "output_type": "stream",
          "name": "stdout",
          "text": [
            "Collecting selenium\n",
            "  Downloading selenium-4.18.1-py3-none-any.whl (10.0 MB)\n",
            "\u001b[2K     \u001b[90m━━━━━━━━━━━━━━━━━━━━━━━━━━━━━━━━━━━━━━━━\u001b[0m \u001b[32m10.0/10.0 MB\u001b[0m \u001b[31m25.3 MB/s\u001b[0m eta \u001b[36m0:00:00\u001b[0m\n",
            "\u001b[?25hRequirement already satisfied: urllib3[socks]<3,>=1.26 in /usr/local/lib/python3.10/dist-packages (from selenium) (2.0.7)\n",
            "Collecting trio~=0.17 (from selenium)\n",
            "  Downloading trio-0.24.0-py3-none-any.whl (460 kB)\n",
            "\u001b[2K     \u001b[90m━━━━━━━━━━━━━━━━━━━━━━━━━━━━━━━━━━━━━━━━\u001b[0m \u001b[32m460.2/460.2 kB\u001b[0m \u001b[31m16.1 MB/s\u001b[0m eta \u001b[36m0:00:00\u001b[0m\n",
            "\u001b[?25hCollecting trio-websocket~=0.9 (from selenium)\n",
            "  Downloading trio_websocket-0.11.1-py3-none-any.whl (17 kB)\n",
            "Requirement already satisfied: certifi>=2021.10.8 in /usr/local/lib/python3.10/dist-packages (from selenium) (2024.2.2)\n",
            "Requirement already satisfied: typing_extensions>=4.9.0 in /usr/local/lib/python3.10/dist-packages (from selenium) (4.10.0)\n",
            "Requirement already satisfied: attrs>=20.1.0 in /usr/local/lib/python3.10/dist-packages (from trio~=0.17->selenium) (23.2.0)\n",
            "Requirement already satisfied: sortedcontainers in /usr/local/lib/python3.10/dist-packages (from trio~=0.17->selenium) (2.4.0)\n",
            "Requirement already satisfied: idna in /usr/local/lib/python3.10/dist-packages (from trio~=0.17->selenium) (3.6)\n",
            "Collecting outcome (from trio~=0.17->selenium)\n",
            "  Downloading outcome-1.3.0.post0-py2.py3-none-any.whl (10 kB)\n",
            "Requirement already satisfied: sniffio>=1.3.0 in /usr/local/lib/python3.10/dist-packages (from trio~=0.17->selenium) (1.3.1)\n",
            "Requirement already satisfied: exceptiongroup in /usr/local/lib/python3.10/dist-packages (from trio~=0.17->selenium) (1.2.0)\n",
            "Collecting wsproto>=0.14 (from trio-websocket~=0.9->selenium)\n",
            "  Downloading wsproto-1.2.0-py3-none-any.whl (24 kB)\n",
            "Requirement already satisfied: pysocks!=1.5.7,<2.0,>=1.5.6 in /usr/local/lib/python3.10/dist-packages (from urllib3[socks]<3,>=1.26->selenium) (1.7.1)\n",
            "Collecting h11<1,>=0.9.0 (from wsproto>=0.14->trio-websocket~=0.9->selenium)\n",
            "  Downloading h11-0.14.0-py3-none-any.whl (58 kB)\n",
            "\u001b[2K     \u001b[90m━━━━━━━━━━━━━━━━━━━━━━━━━━━━━━━━━━━━━━━━\u001b[0m \u001b[32m58.3/58.3 kB\u001b[0m \u001b[31m5.8 MB/s\u001b[0m eta \u001b[36m0:00:00\u001b[0m\n",
            "\u001b[?25hInstalling collected packages: outcome, h11, wsproto, trio, trio-websocket, selenium\n",
            "Successfully installed h11-0.14.0 outcome-1.3.0.post0 selenium-4.18.1 trio-0.24.0 trio-websocket-0.11.1 wsproto-1.2.0\n",
            "Hit:1 http://archive.ubuntu.com/ubuntu jammy InRelease\n",
            "Get:2 http://archive.ubuntu.com/ubuntu jammy-updates InRelease [119 kB]\n",
            "Get:3 http://archive.ubuntu.com/ubuntu jammy-backports InRelease [109 kB]\n",
            "Get:4 http://security.ubuntu.com/ubuntu jammy-security InRelease [110 kB]\n",
            "Get:5 https://cloud.r-project.org/bin/linux/ubuntu jammy-cran40/ InRelease [3,626 B]\n",
            "Hit:6 https://ppa.launchpadcontent.net/c2d4u.team/c2d4u4.0+/ubuntu jammy InRelease\n",
            "Hit:7 https://ppa.launchpadcontent.net/deadsnakes/ppa/ubuntu jammy InRelease\n",
            "Get:8 https://developer.download.nvidia.com/compute/cuda/repos/ubuntu2204/x86_64  InRelease [1,581 B]\n",
            "Hit:9 https://ppa.launchpadcontent.net/graphics-drivers/ppa/ubuntu jammy InRelease\n",
            "Hit:10 https://ppa.launchpadcontent.net/ubuntugis/ppa/ubuntu jammy InRelease\n",
            "Get:11 http://archive.ubuntu.com/ubuntu jammy-updates/main amd64 Packages [1,848 kB]\n",
            "Get:12 http://archive.ubuntu.com/ubuntu jammy-updates/universe amd64 Packages [1,354 kB]\n",
            "Get:13 http://archive.ubuntu.com/ubuntu jammy-updates/restricted amd64 Packages [1,998 kB]\n",
            "Get:14 http://security.ubuntu.com/ubuntu jammy-security/main amd64 Packages [1,569 kB]\n",
            "Get:15 http://security.ubuntu.com/ubuntu jammy-security/restricted amd64 Packages [1,961 kB]\n",
            "Get:16 https://developer.download.nvidia.com/compute/cuda/repos/ubuntu2204/x86_64  Packages [737 kB]\n",
            "Fetched 9,809 kB in 3s (2,809 kB/s)\n",
            "Reading package lists... Done\n",
            "Reading package lists... Done\n",
            "Building dependency tree... Done\n",
            "Reading state information... Done\n",
            "The following additional packages will be installed:\n",
            "  apparmor chromium-browser libfuse3-3 liblzo2-2 libudev1 snapd squashfs-tools systemd-hwe-hwdb\n",
            "  udev\n",
            "Suggested packages:\n",
            "  apparmor-profiles-extra apparmor-utils fuse3 zenity | kdialog\n",
            "The following NEW packages will be installed:\n",
            "  apparmor chromium-browser chromium-chromedriver libfuse3-3 liblzo2-2 snapd squashfs-tools\n",
            "  systemd-hwe-hwdb udev\n",
            "The following packages will be upgraded:\n",
            "  libudev1\n",
            "1 upgraded, 9 newly installed, 0 to remove and 37 not upgraded.\n",
            "Need to get 26.4 MB of archives.\n",
            "After this operation, 116 MB of additional disk space will be used.\n",
            "Get:1 http://archive.ubuntu.com/ubuntu jammy-updates/main amd64 apparmor amd64 3.0.4-2ubuntu2.3 [595 kB]\n",
            "Get:2 http://archive.ubuntu.com/ubuntu jammy/main amd64 liblzo2-2 amd64 2.10-2build3 [53.7 kB]\n",
            "Get:3 http://archive.ubuntu.com/ubuntu jammy/main amd64 squashfs-tools amd64 1:4.5-3build1 [159 kB]\n",
            "Get:4 http://archive.ubuntu.com/ubuntu jammy-updates/main amd64 libudev1 amd64 249.11-0ubuntu3.12 [78.2 kB]\n",
            "Get:5 http://archive.ubuntu.com/ubuntu jammy-updates/main amd64 udev amd64 249.11-0ubuntu3.12 [1,557 kB]\n",
            "Get:6 http://archive.ubuntu.com/ubuntu jammy/main amd64 libfuse3-3 amd64 3.10.5-1build1 [81.2 kB]\n",
            "Get:7 http://archive.ubuntu.com/ubuntu jammy-updates/main amd64 snapd amd64 2.58+22.04.1 [23.8 MB]\n",
            "Get:8 http://archive.ubuntu.com/ubuntu jammy-updates/universe amd64 chromium-browser amd64 1:85.0.4183.83-0ubuntu2.22.04.1 [49.2 kB]\n",
            "Get:9 http://archive.ubuntu.com/ubuntu jammy-updates/universe amd64 chromium-chromedriver amd64 1:85.0.4183.83-0ubuntu2.22.04.1 [2,308 B]\n",
            "Get:10 http://archive.ubuntu.com/ubuntu jammy-updates/main amd64 systemd-hwe-hwdb all 249.11.5 [3,228 B]\n",
            "Fetched 26.4 MB in 0s (59.5 MB/s)\n",
            "Preconfiguring packages ...\n",
            "Selecting previously unselected package apparmor.\n",
            "(Reading database ... 121752 files and directories currently installed.)\n",
            "Preparing to unpack .../apparmor_3.0.4-2ubuntu2.3_amd64.deb ...\n",
            "Unpacking apparmor (3.0.4-2ubuntu2.3) ...\n",
            "Selecting previously unselected package liblzo2-2:amd64.\n",
            "Preparing to unpack .../liblzo2-2_2.10-2build3_amd64.deb ...\n",
            "Unpacking liblzo2-2:amd64 (2.10-2build3) ...\n",
            "Selecting previously unselected package squashfs-tools.\n",
            "Preparing to unpack .../squashfs-tools_1%3a4.5-3build1_amd64.deb ...\n",
            "Unpacking squashfs-tools (1:4.5-3build1) ...\n",
            "Preparing to unpack .../libudev1_249.11-0ubuntu3.12_amd64.deb ...\n",
            "Unpacking libudev1:amd64 (249.11-0ubuntu3.12) over (249.11-0ubuntu3.10) ...\n",
            "Setting up libudev1:amd64 (249.11-0ubuntu3.12) ...\n",
            "Selecting previously unselected package udev.\n",
            "(Reading database ... 121960 files and directories currently installed.)\n",
            "Preparing to unpack .../udev_249.11-0ubuntu3.12_amd64.deb ...\n",
            "Unpacking udev (249.11-0ubuntu3.12) ...\n",
            "Selecting previously unselected package libfuse3-3:amd64.\n",
            "Preparing to unpack .../libfuse3-3_3.10.5-1build1_amd64.deb ...\n",
            "Unpacking libfuse3-3:amd64 (3.10.5-1build1) ...\n",
            "Selecting previously unselected package snapd.\n",
            "Preparing to unpack .../snapd_2.58+22.04.1_amd64.deb ...\n",
            "Unpacking snapd (2.58+22.04.1) ...\n",
            "Setting up apparmor (3.0.4-2ubuntu2.3) ...\n",
            "Created symlink /etc/systemd/system/sysinit.target.wants/apparmor.service → /lib/systemd/system/apparmor.service.\n",
            "Setting up liblzo2-2:amd64 (2.10-2build3) ...\n",
            "Setting up squashfs-tools (1:4.5-3build1) ...\n",
            "Setting up udev (249.11-0ubuntu3.12) ...\n",
            "invoke-rc.d: could not determine current runlevel\n",
            "invoke-rc.d: policy-rc.d denied execution of start.\n",
            "Setting up libfuse3-3:amd64 (3.10.5-1build1) ...\n",
            "Setting up snapd (2.58+22.04.1) ...\n",
            "Created symlink /etc/systemd/system/multi-user.target.wants/snapd.aa-prompt-listener.service → /lib/systemd/system/snapd.aa-prompt-listener.service.\n",
            "Created symlink /etc/systemd/system/multi-user.target.wants/snapd.apparmor.service → /lib/systemd/system/snapd.apparmor.service.\n",
            "Created symlink /etc/systemd/system/multi-user.target.wants/snapd.autoimport.service → /lib/systemd/system/snapd.autoimport.service.\n",
            "Created symlink /etc/systemd/system/multi-user.target.wants/snapd.core-fixup.service → /lib/systemd/system/snapd.core-fixup.service.\n",
            "Created symlink /etc/systemd/system/multi-user.target.wants/snapd.recovery-chooser-trigger.service → /lib/systemd/system/snapd.recovery-chooser-trigger.service.\n",
            "Created symlink /etc/systemd/system/multi-user.target.wants/snapd.seeded.service → /lib/systemd/system/snapd.seeded.service.\n",
            "Created symlink /etc/systemd/system/cloud-final.service.wants/snapd.seeded.service → /lib/systemd/system/snapd.seeded.service.\n",
            "Unit /lib/systemd/system/snapd.seeded.service is added as a dependency to a non-existent unit cloud-final.service.\n",
            "Created symlink /etc/systemd/system/multi-user.target.wants/snapd.service → /lib/systemd/system/snapd.service.\n",
            "Created symlink /etc/systemd/system/timers.target.wants/snapd.snap-repair.timer → /lib/systemd/system/snapd.snap-repair.timer.\n",
            "Created symlink /etc/systemd/system/sockets.target.wants/snapd.socket → /lib/systemd/system/snapd.socket.\n",
            "Created symlink /etc/systemd/system/final.target.wants/snapd.system-shutdown.service → /lib/systemd/system/snapd.system-shutdown.service.\n",
            "Selecting previously unselected package chromium-browser.\n",
            "(Reading database ... 122193 files and directories currently installed.)\n",
            "Preparing to unpack .../chromium-browser_1%3a85.0.4183.83-0ubuntu2.22.04.1_amd64.deb ...\n",
            "=> Installing the chromium snap\n",
            "==> Checking connectivity with the snap store\n",
            "===> System doesn't have a working snapd, skipping\n",
            "Unpacking chromium-browser (1:85.0.4183.83-0ubuntu2.22.04.1) ...\n",
            "Selecting previously unselected package chromium-chromedriver.\n",
            "Preparing to unpack .../chromium-chromedriver_1%3a85.0.4183.83-0ubuntu2.22.04.1_amd64.deb ...\n",
            "Unpacking chromium-chromedriver (1:85.0.4183.83-0ubuntu2.22.04.1) ...\n",
            "Selecting previously unselected package systemd-hwe-hwdb.\n",
            "Preparing to unpack .../systemd-hwe-hwdb_249.11.5_all.deb ...\n",
            "Unpacking systemd-hwe-hwdb (249.11.5) ...\n",
            "Setting up systemd-hwe-hwdb (249.11.5) ...\n",
            "Setting up chromium-browser (1:85.0.4183.83-0ubuntu2.22.04.1) ...\n",
            "update-alternatives: using /usr/bin/chromium-browser to provide /usr/bin/x-www-browser (x-www-browser) in auto mode\n",
            "update-alternatives: using /usr/bin/chromium-browser to provide /usr/bin/gnome-www-browser (gnome-www-browser) in auto mode\n",
            "Setting up chromium-chromedriver (1:85.0.4183.83-0ubuntu2.22.04.1) ...\n",
            "Processing triggers for udev (249.11-0ubuntu3.12) ...\n",
            "Processing triggers for hicolor-icon-theme (0.17-2) ...\n",
            "Processing triggers for libc-bin (2.35-0ubuntu3.4) ...\n",
            "/sbin/ldconfig.real: /usr/local/lib/libtbbmalloc.so.2 is not a symbolic link\n",
            "\n",
            "/sbin/ldconfig.real: /usr/local/lib/libtbb.so.12 is not a symbolic link\n",
            "\n",
            "/sbin/ldconfig.real: /usr/local/lib/libtbbbind_2_0.so.3 is not a symbolic link\n",
            "\n",
            "/sbin/ldconfig.real: /usr/local/lib/libtbbbind.so.3 is not a symbolic link\n",
            "\n",
            "/sbin/ldconfig.real: /usr/local/lib/libtbbbind_2_5.so.3 is not a symbolic link\n",
            "\n",
            "/sbin/ldconfig.real: /usr/local/lib/libtbbmalloc_proxy.so.2 is not a symbolic link\n",
            "\n",
            "Processing triggers for man-db (2.10.2-1) ...\n",
            "Processing triggers for dbus (1.12.20-2ubuntu4.1) ...\n",
            "cp: '/usr/lib/chromium-browser/chromedriver' and '/usr/bin/chromedriver' are the same file\n"
          ]
        }
      ]
    },
    {
      "cell_type": "code",
      "source": [
        "import pandas as pd\n",
        "from selenium import webdriver\n",
        "from selenium.webdriver.common.by import By\n",
        "from selenium.webdriver.support.ui import WebDriverWait\n",
        "from selenium.webdriver.support import expected_conditions as EC\n",
        "from time import sleep\n",
        "import warnings\n",
        "warnings.filterwarnings('ignore')"
      ],
      "metadata": {
        "id": "nRqVOBAryB1I"
      },
      "execution_count": null,
      "outputs": []
    },
    {
      "cell_type": "code",
      "source": [
        "from selenium import webdriver\n",
        "from selenium.webdriver.chrome.options import Options\n",
        "\n",
        "chrome_options = Options()\n",
        "chrome_options.add_argument('--headless')\n",
        "chrome_options.add_argument('--no-sandbox')\n",
        "chrome_options.add_argument('--disable-dev-shm-usage')\n",
        "\n",
        "# Initialize Chrome WebDriver with options\n",
        "# Make sure you don't pass 'chromedriver' as a positional argument if specifying options\n",
        "driver = webdriver.Chrome(options=chrome_options)\n"
      ],
      "metadata": {
        "id": "tD0EA_hmwOaL"
      },
      "execution_count": null,
      "outputs": []
    },
    {
      "cell_type": "code",
      "source": [
        "def get_poem_from_url(url):\n",
        "    driver.get(url)\n",
        "    WebDriverWait(driver, 10).until(EC.presence_of_element_located((By.TAG_NAME, 'body')))\n",
        "\n",
        "    # First, collect all the links you're interested in by their href attributes\n",
        "    link_elements = driver.find_elements(By.XPATH, \"//blockquote[2]//p//a\")#orhan veli ve melihcevdet linki\n",
        "    if \"rifat\" in url:\n",
        "      link_elements = driver.find_elements(By.XPATH, \"//blockquote[4]//p//a\")\n",
        "    links = [link.get_attribute('href') for link in link_elements]\n",
        "    print(links)\n",
        "\n",
        "    poems = []\n",
        "\n",
        "    for link in links:\n",
        "        dataset = pd.DataFrame(columns = [\"Poem\"])\n",
        "        try:\n",
        "            # Navigate directly to the link URL\n",
        "            driver.get(link)\n",
        "            sleep(5)\n",
        "            # Extract text from the first specified element\n",
        "            baslik = driver.find_element(By.XPATH, '/html/body/pre[1]/font')\n",
        "            baslik_text = baslik.text\n",
        "            siir = driver.find_element(By.XPATH, '/html/body/pre[2]/font')\n",
        "            siir_text = siir.text  # Using .text to get the text content\n",
        "            full_text = baslik_text+\"\\n\"+siir_text\n",
        "            poems.append(full_text)\n",
        "        except Exception as e:\n",
        "            pass\n",
        "        finally:\n",
        "            # Navigate back to the main page to continue the loop\n",
        "            driver.get(url)\n",
        "            WebDriverWait(driver, 10).until(EC.presence_of_element_located((By.TAG_NAME, 'body')))\n",
        "\n",
        "    return poems"
      ],
      "metadata": {
        "id": "HcpsxHs4wQ41"
      },
      "execution_count": null,
      "outputs": []
    },
    {
      "cell_type": "code",
      "source": [
        "driver = webdriver.Chrome(options=chrome_options)\n",
        "orhan_veli_kanik_siirleri = get_poem_from_url(\"https://www.siir.gen.tr/siir/o/orhan_veli_kanik/\")"
      ],
      "metadata": {
        "colab": {
          "base_uri": "https://localhost:8080/"
        },
        "id": "7uH8ZpB6xEtV",
        "outputId": "47e38a86-e726-4a43-c62d-dd727495388c"
      },
      "execution_count": null,
      "outputs": [
        {
          "output_type": "stream",
          "name": "stdout",
          "text": [
            "['https://www.siir.gen.tr/siir/o/orhan_veli_kanik/acsam_ruzgara.htm', 'https://www.siir.gen.tr/siir/o/orhan_veli_kanik/anlatamiyorum.htm', 'https://www.siir.gen.tr/siir/o/orhan_veli_kanik/ayrilis.htm', 'https://www.siir.gen.tr/siir/o/orhan_veli_kanik/bayrak.htm', 'https://www.siir.gen.tr/siir/o/orhan_veli_kanik/bayram.htm', 'https://www.siir.gen.tr/siir/o/orhan_veli_kanik/bedava.htm', 'https://www.siir.gen.tr/siir/o/orhan_veli_kanik/dalgaci_mahmut.htm', 'https://www.siir.gen.tr/siir/o/orhan_veli_kanik/delikli_siir.htm', 'https://www.siir.gen.tr/siir/o/orhan_veli_kanik/gelirli_siir.htm', 'https://www.siir.gen.tr/siir/o/orhan_veli_kanik/gun_olur.htm', 'https://www.siir.gen.tr/siir/o/orhan_veli_kanik/guzel_havalar.htm', 'https://www.siir.gen.tr/siir/o/orhan_veli_kanik/harbe_giden.htm', 'https://www.siir.gen.tr/siir/o/orhan_veli_kanik/hurriyete_dogru.htm', 'https://www.siir.gen.tr/siir/o/orhan_veli_kanik/istanbulu_dinliyorum.htm', 'https://www.siir.gen.tr/siir/o/orhan_veli_kanik/kitabei_sengi_mezar.htm', 'https://www.siir.gen.tr/siir/o/orhan_veli_kanik/macera.htm', 'https://www.siir.gen.tr/siir/o/orhan_veli_kanik/pazar_aksamlari.htm', 'https://www.siir.gen.tr/siir/o/orhan_veli_kanik/ruya.htm', 'https://www.siir.gen.tr/siir/o/orhan_veli_kanik/tren_sesi.htm', 'https://www.siir.gen.tr/siir/o/orhan_veli_kanik/yasamak.htm']\n"
          ]
        }
      ]
    },
    {
      "cell_type": "code",
      "source": [
        "len(orhan_veli_kanik_siirleri)"
      ],
      "metadata": {
        "colab": {
          "base_uri": "https://localhost:8080/"
        },
        "id": "5H_rAqxs4i3u",
        "outputId": "0dcfb605-b862-44ef-a472-70d8aab88f6f"
      },
      "execution_count": null,
      "outputs": [
        {
          "output_type": "execute_result",
          "data": {
            "text/plain": [
              "14"
            ]
          },
          "metadata": {},
          "execution_count": 37
        }
      ]
    },
    {
      "cell_type": "code",
      "source": [
        "print(orhan_veli_kanik_siirleri[0])"
      ],
      "metadata": {
        "colab": {
          "base_uri": "https://localhost:8080/"
        },
        "id": "rIgIZBvz4nc2",
        "outputId": "8c8cd6e2-186d-40ba-fb64-ebb1122f78e6"
      },
      "execution_count": null,
      "outputs": [
        {
          "output_type": "stream",
          "name": "stdout",
          "text": [
            "ANLATAMIYORUM  \n",
            "Ağlasam sesimi duyar mısınız,  \n",
            "Mısralarımda; \n",
            "Dokunabilir misiniz, \n",
            "Gözyaşlarıma, ellerinizle?  \n",
            "Bilmezdim şarkıların bu kadar güzel, \n",
            "Kelimelerinse kifayetsiz olduğunu \n",
            "Bu derde düşmeden önce.  \n",
            "Bir yer var, biliyorum; \n",
            "Her şeyi söylemek mümkün; \n",
            "Epeyce yaklaşmışım, duyuyorum; \n",
            "Anlatamıyorum.  \n"
          ]
        }
      ]
    },
    {
      "cell_type": "code",
      "source": [
        "driver = webdriver.Chrome(options=chrome_options)\n",
        "melih_cevdet_anday_siirleri = get_poem_from_url(\"https://www.siir.gen.tr/siir/m/melih_cevdet_anday/index.html\")"
      ],
      "metadata": {
        "colab": {
          "base_uri": "https://localhost:8080/"
        },
        "id": "M5rES3Jm4V15",
        "outputId": "95ba27b0-86b8-4f1b-a9b0-5a96b962c876"
      },
      "execution_count": null,
      "outputs": [
        {
          "output_type": "stream",
          "name": "stdout",
          "text": [
            "['https://www.siir.gen.tr/siir/m/melih_cevdet_anday/ahlak.htm', 'https://www.siir.gen.tr/siir/m/melih_cevdet_anday/agulu_mantar.htm', 'https://www.siir.gen.tr/siir/m/melih_cevdet_anday/alaturka.htm', 'https://www.siir.gen.tr/siir/m/melih_cevdet_anday/ani.htm', 'https://www.siir.gen.tr/siir/m/melih_cevdet_anday/alaturka.htm', 'https://www.siir.gen.tr/siir/m/melih_cevdet_anday/ataturkun_bir_saati_vardi.htm', 'https://www.siir.gen.tr/siir/m/melih_cevdet_anday/bardak.htm', 'https://www.siir.gen.tr/siir/m/melih_cevdet_anday/ataturkun_bir_saati_vardi.htm', 'https://www.siir.gen.tr/siir/m/melih_cevdet_anday/bir_ilkbahar_siirine_baslangic.htm', 'https://www.siir.gen.tr/siir/m/melih_cevdet_anday/ataturkun_bir_saati_vardi.htm', 'https://www.siir.gen.tr/siir/m/melih_cevdet_anday/bu_kirlangiclar_gitmemisler_miydi.htm', 'https://www.siir.gen.tr/siir/m/melih_cevdet_anday/care_yok.htm', 'https://www.siir.gen.tr/siir/m/melih_cevdet_anday/bu_kirlangiclar_gitmemisler_miydi.htm', 'https://www.siir.gen.tr/siir/m/melih_cevdet_anday/cesitlemeler.htm', 'https://www.siir.gen.tr/siir/m/melih_cevdet_anday/cok_guzel_sey.htm', 'https://www.siir.gen.tr/siir/m/melih_cevdet_anday/cesitlemeler.htm', 'https://www.siir.gen.tr/siir/m/melih_cevdet_anday/defne_ormani.htm', 'https://www.siir.gen.tr/siir/m/melih_cevdet_anday/dursun_bebege_ninni.htm', 'https://www.siir.gen.tr/siir/m/melih_cevdet_anday/bu_kirlangiclar_gitmemisler_miydi.htm', 'https://www.siir.gen.tr/siir/m/melih_cevdet_anday/duzenli_dunya.htm', 'https://www.siir.gen.tr/siir/m/melih_cevdet_anday/faltasi.htm', 'https://www.siir.gen.tr/siir/m/melih_cevdet_anday/duzenli_dunya.htm', 'https://www.siir.gen.tr/siir/m/melih_cevdet_anday/fotograf.htm', 'https://www.siir.gen.tr/siir/m/melih_cevdet_anday/duzenli_dunya.htm', 'https://www.siir.gen.tr/siir/m/melih_cevdet_anday/gelinlik_kizin_olumu.htm', 'https://www.siir.gen.tr/siir/m/melih_cevdet_anday/gozlerim_mavi.htm', 'https://www.siir.gen.tr/siir/m/melih_cevdet_anday/gelinlik_kizin_olumu.htm', 'https://www.siir.gen.tr/siir/m/melih_cevdet_anday/guneste.htm', 'https://www.siir.gen.tr/siir/m/melih_cevdet_anday/guvercin.htm', 'https://www.siir.gen.tr/siir/m/melih_cevdet_anday/hazineler_icindesin.htm', 'https://www.siir.gen.tr/siir/m/melih_cevdet_anday/her_gece_boyle_degilim.htm', 'https://www.siir.gen.tr/siir/m/melih_cevdet_anday/hirosima.htm', 'https://www.siir.gen.tr/siir/m/melih_cevdet_anday/kades_savasi.htm', 'https://www.siir.gen.tr/siir/m/melih_cevdet_anday/kimiltisiz_arilar.htm', 'https://www.siir.gen.tr/siir/m/melih_cevdet_anday/kundura_boyacisina,_kiraz_agacina,_cingene_kizina_dair.htm', 'https://www.siir.gen.tr/siir/m/melih_cevdet_anday/guvercin.htm', 'https://www.siir.gen.tr/siir/m/melih_cevdet_anday/kollari_bagli_odysseus.htm', 'https://www.siir.gen.tr/siir/m/melih_cevdet_anday/medeniyet.htm', 'https://www.siir.gen.tr/siir/m/melih_cevdet_anday/guvercin.htm', 'https://www.siir.gen.tr/siir/m/melih_cevdet_anday/olsun_da_gor.htm', 'https://www.siir.gen.tr/siir/m/melih_cevdet_anday/olum.htm', 'https://www.siir.gen.tr/siir/m/melih_cevdet_anday/guvercin.htm', 'https://www.siir.gen.tr/siir/m/melih_cevdet_anday/rahati_kacan_agac.htm', 'https://www.siir.gen.tr/siir/m/melih_cevdet_anday/sasirtici_karsilasma.htm', 'https://www.siir.gen.tr/siir/m/melih_cevdet_anday/sevda_ruzgari.htm', 'https://www.siir.gen.tr/siir/m/melih_cevdet_anday/sevincin_yarisi.htm', 'https://www.siir.gen.tr/siir/m/melih_cevdet_anday/siir_yazmak.htm', 'https://www.siir.gen.tr/siir/m/melih_cevdet_anday/sinanay.htm', 'https://www.siir.gen.tr/siir/m/melih_cevdet_anday/sokaga_cikiyorum.htm', 'https://www.siir.gen.tr/siir/m/melih_cevdet_anday/sona_erdi_her_sey.htm', 'https://www.siir.gen.tr/siir/m/melih_cevdet_anday/tek_basina.htm', 'https://www.siir.gen.tr/siir/m/melih_cevdet_anday/sona_erdi_her_sey.htm', 'https://www.siir.gen.tr/siir/m/melih_cevdet_anday/teknenin_olumu.htm', 'https://www.siir.gen.tr/siir/m/melih_cevdet_anday/sona_erdi_her_sey.htm', 'https://www.siir.gen.tr/siir/m/melih_cevdet_anday/telgrafhane.htm', 'https://www.siir.gen.tr/siir/m/melih_cevdet_anday/tohum.htm', 'https://www.siir.gen.tr/siir/m/melih_cevdet_anday/troya_onunde_atlar.htm', 'https://www.siir.gen.tr/siir/m/melih_cevdet_anday/tohum.htm', 'https://www.siir.gen.tr/siir/m/melih_cevdet_anday/yagmur.htm', 'https://www.siir.gen.tr/siir/m/melih_cevdet_anday/yagmurun_altinda.htm', 'https://www.siir.gen.tr/siir/m/melih_cevdet_anday/yagmur.htm', 'https://www.siir.gen.tr/siir/m/melih_cevdet_anday/yalan.htm', 'https://www.siir.gen.tr/siir/m/melih_cevdet_anday/yanyana.htm', 'https://www.siir.gen.tr/siir/m/melih_cevdet_anday/yanyana_dalginlik.htm', 'https://www.siir.gen.tr/siir/m/melih_cevdet_anday/yanyana.htm', 'https://www.siir.gen.tr/siir/m/melih_cevdet_anday/yaz_sonu_siirleri.htm', 'https://www.siir.gen.tr/siir/m/melih_cevdet_anday/yanyana.htm', 'https://www.siir.gen.tr/siir/m/melih_cevdet_anday/yeni_bir_dunya.htm', 'https://www.siir.gen.tr/siir/m/melih_cevdet_anday/yildiz.htm', 'https://www.siir.gen.tr/siir/m/melih_cevdet_anday/zamanlar.htm', 'https://www.siir.gen.tr/siir/m/melih_cevdet_anday/zavalli_etem.htm']\n"
          ]
        }
      ]
    },
    {
      "cell_type": "code",
      "source": [
        "len(melih_cevdet_anday_siirleri)"
      ],
      "metadata": {
        "colab": {
          "base_uri": "https://localhost:8080/"
        },
        "id": "pAnOixcH4bNB",
        "outputId": "ab74a6af-c502-4f89-e78b-66bad65dc9c6"
      },
      "execution_count": null,
      "outputs": [
        {
          "output_type": "execute_result",
          "data": {
            "text/plain": [
              "61"
            ]
          },
          "metadata": {},
          "execution_count": 43
        }
      ]
    },
    {
      "cell_type": "code",
      "source": [
        "print(melih_cevdet_anday_siirleri[0])"
      ],
      "metadata": {
        "colab": {
          "base_uri": "https://localhost:8080/"
        },
        "id": "wep0nwO54wiD",
        "outputId": "ead42fd0-d505-4c8f-a2be-8584cbec8ed9"
      },
      "execution_count": null,
      "outputs": [
        {
          "output_type": "stream",
          "name": "stdout",
          "text": [
            "AHLAK\n",
            "Ahlak kalmadı dünyada\n",
            "Kiracısı öyle, işçisi öyle\n",
            "Hami köylü saftır derler a\n",
            "İnanma\n",
            "Cırrr\n",
            "Kapı\n",
            "Kim o?\n",
            "Dilenci.\n",
            "Kuru ekmek verirsin beğenmez\n",
            "Taze ekmek senin nene!\n",
            "Kalmadı, dedim ya, kalmadı\n",
            "Ahlak kalmadı memlekette.\n"
          ]
        }
      ]
    },
    {
      "cell_type": "code",
      "source": [
        "driver = webdriver.Chrome(options=chrome_options)\n",
        "oktay_rifat_siirleri = get_poem_from_url(\"https://www.siir.gen.tr/siir/o/oktay_rifat/\")"
      ],
      "metadata": {
        "colab": {
          "base_uri": "https://localhost:8080/"
        },
        "id": "jQbbo0zS4bWh",
        "outputId": "644443c0-b096-48fb-b050-3039ef6b9e5f"
      },
      "execution_count": null,
      "outputs": [
        {
          "output_type": "stream",
          "name": "stdout",
          "text": [
            "['https://www.siir.gen.tr/siir/o/oktay_rifat/agzimin_tadi.htm', 'https://www.siir.gen.tr/siir/o/oktay_rifat/aksam_baligin_karninda_bekliyor.htm', 'https://www.siir.gen.tr/siir/o/oktay_rifat/anis.htm', 'https://www.siir.gen.tr/siir/o/oktay_rifat/asik_merdiveni.htm', 'https://www.siir.gen.tr/siir/o/oktay_rifat/aydinlik.htm', 'https://www.siir.gen.tr/siir/o/oktay_rifat/ayna.htm', 'https://www.siir.gen.tr/siir/o/oktay_rifat/bagimsiz.htm', 'https://www.siir.gen.tr/siir/o/oktay_rifat/bana_benzer.htm', 'https://www.siir.gen.tr/siir/o/oktay_rifat/benim_yarim.htm', 'https://www.siir.gen.tr/siir/o/oktay_rifat/bir_aska_vuran_gunes.htm', 'https://www.siir.gen.tr/siir/o/oktay_rifat/bir_sehri_birakmak.htm', 'https://www.siir.gen.tr/siir/o/oktay_rifat/elleri_var_ozgurlugun.htm', 'https://www.siir.gen.tr/siir/o/oktay_rifat/eski_koltukta.htm', 'https://www.siir.gen.tr/siir/o/oktay_rifat/eski_zaman.htm', 'https://www.siir.gen.tr/siir/o/oktay_rifat/fatihin_resmi.htm', 'https://www.siir.gen.tr/siir/o/oktay_rifat/hangi_saatlerde.htm', 'https://www.siir.gen.tr/siir/o/oktay_rifat/harc_ceken_isciler.htm', 'https://www.siir.gen.tr/siir/o/oktay_rifat/istanbul_turkusu.htm', 'https://www.siir.gen.tr/siir/o/oktay_rifat/kadeh.htm', 'https://www.siir.gen.tr/siir/o/oktay_rifat/kaf.htm', 'https://www.siir.gen.tr/siir/o/oktay_rifat/karima.htm', 'https://www.siir.gen.tr/siir/o/oktay_rifat/koca_bir_yaz.htm', 'https://www.siir.gen.tr/siir/o/oktay_rifat/kus_dili.htm', 'https://www.siir.gen.tr/siir/o/oktay_rifat/nara_benzerdin.htm', 'https://www.siir.gen.tr/siir/o/oktay_rifat/pembe_yali.htm', 'https://www.siir.gen.tr/siir/o/oktay_rifat/pencere.htm', 'https://www.siir.gen.tr/siir/o/oktay_rifat/percemli_sokaktan.htm', 'https://www.siir.gen.tr/siir/o/oktay_rifat/su_gibi_gecen_gunler.htm', 'https://www.siir.gen.tr/siir/o/oktay_rifat/sehitlik.htm', 'https://www.siir.gen.tr/siir/o/oktay_rifat/tecelli.htm', 'https://www.siir.gen.tr/siir/o/oktay_rifat/telefon.htm', 'https://www.siir.gen.tr/siir/o/oktay_rifat/telli_telefon.htm', 'https://www.siir.gen.tr/siir/o/oktay_rifat/vazife.htm', 'https://www.siir.gen.tr/siir/o/oktay_rifat/vidalar.htm', 'https://www.siir.gen.tr/siir/o/oktay_rifat/yagmur_baslangici.htm', 'https://www.siir.gen.tr/siir/o/oktay_rifat/yalanci_dolma.htm', 'https://www.siir.gen.tr/siir/o/oktay_rifat/yan_yana_baslarimiz.htm']\n"
          ]
        }
      ]
    },
    {
      "cell_type": "code",
      "source": [
        "len(oktay_rifat_siirleri)"
      ],
      "metadata": {
        "colab": {
          "base_uri": "https://localhost:8080/"
        },
        "id": "0Miu511J4bZs",
        "outputId": "87523618-9a51-4e51-c2c1-5ea5445f0e31"
      },
      "execution_count": null,
      "outputs": [
        {
          "output_type": "execute_result",
          "data": {
            "text/plain": [
              "35"
            ]
          },
          "metadata": {},
          "execution_count": 50
        }
      ]
    },
    {
      "cell_type": "code",
      "source": [
        "print(oktay_rifat_siirleri[0])"
      ],
      "metadata": {
        "colab": {
          "base_uri": "https://localhost:8080/"
        },
        "id": "lOU_PPJQ4-Qh",
        "outputId": "a9ccfcd1-b6ca-4147-ed3a-96f8c99c553f"
      },
      "execution_count": null,
      "outputs": [
        {
          "output_type": "stream",
          "name": "stdout",
          "text": [
            "AĞZIMIN TADI\n",
            "Ağzımın tadı yoksa, hasta gibiysem,\n",
            "Boğazımda düğümleniyorsa lokma, \n",
            "Buluttan nem kapıyorsam, vara yoğa\n",
            "Alınıyorsam, geçimsiz ve işkilli,\n",
            "Yüzüm öfkeden karaya çalıyorsa,\n",
            "Denize bile iştahsız bakıyorsam,\n",
            "Hep bu boyu devrilesi bozuk düzen,\n",
            "Bu darağacı suratlı toplum!\n",
            "            \n"
          ]
        }
      ]
    },
    {
      "cell_type": "code",
      "source": [
        "dataset = pd.DataFrame(columns=[\"Şair\",\"Şiir\"])\n",
        "dataset[\"Şiir\"] = orhan_veli_kanik_siirleri\n",
        "dataset[\"Şair\"]=\"Orhan Veli Kanık\""
      ],
      "metadata": {
        "id": "AqFbycMXH0GM"
      },
      "execution_count": null,
      "outputs": []
    },
    {
      "cell_type": "code",
      "source": [
        "dataset1 = pd.DataFrame(columns=[\"Şair\",\"Şiir\"])\n",
        "dataset1[\"Şiir\"] = melih_cevdet_anday_siirleri\n",
        "dataset1[\"Şair\"]=\"Melih Cevdet Anday\""
      ],
      "metadata": {
        "id": "y9BS27meHzcG"
      },
      "execution_count": null,
      "outputs": []
    },
    {
      "cell_type": "code",
      "source": [
        "dataset2 = pd.DataFrame(columns=[\"Şair\",\"Şiir\"])\n",
        "dataset2[\"Şiir\"] = oktay_rifat_siirleri\n",
        "dataset2[\"Şair\"]=\"Oktay Rıfat\""
      ],
      "metadata": {
        "id": "0YAofLP-ITKv"
      },
      "execution_count": null,
      "outputs": []
    },
    {
      "cell_type": "code",
      "source": [
        "full_data = pd.concat([pd.concat([dataset,dataset]),dataset2])"
      ],
      "metadata": {
        "id": "AE1CQXy9_9Ha"
      },
      "execution_count": null,
      "outputs": []
    },
    {
      "cell_type": "code",
      "source": [
        "full_data.head()"
      ],
      "metadata": {
        "colab": {
          "base_uri": "https://localhost:8080/",
          "height": 206
        },
        "id": "X6OctCqZIlxd",
        "outputId": "73d42b92-d20d-402a-ed74-55999529b7d3"
      },
      "execution_count": null,
      "outputs": [
        {
          "output_type": "execute_result",
          "data": {
            "text/plain": [
              "               Şair                                               Şiir\n",
              "0  Orhan Veli Kanık  ANLATAMIYORUM  \\nAğlasam sesimi duyar mısınız,...\n",
              "1  Orhan Veli Kanık  AYRILIŞ \\nBaka kalırım giden geminin ardından;...\n",
              "2  Orhan Veli Kanık                                               \\n  \n",
              "3  Orhan Veli Kanık  DELİKLİ ŞİİR \\nCep delik, cepken delik, \\nKol ...\n",
              "4  Orhan Veli Kanık                                                \\n "
            ],
            "text/html": [
              "\n",
              "  <div id=\"df-715776d4-ea60-4b19-9de0-51c0641b01a4\" class=\"colab-df-container\">\n",
              "    <div>\n",
              "<style scoped>\n",
              "    .dataframe tbody tr th:only-of-type {\n",
              "        vertical-align: middle;\n",
              "    }\n",
              "\n",
              "    .dataframe tbody tr th {\n",
              "        vertical-align: top;\n",
              "    }\n",
              "\n",
              "    .dataframe thead th {\n",
              "        text-align: right;\n",
              "    }\n",
              "</style>\n",
              "<table border=\"1\" class=\"dataframe\">\n",
              "  <thead>\n",
              "    <tr style=\"text-align: right;\">\n",
              "      <th></th>\n",
              "      <th>Şair</th>\n",
              "      <th>Şiir</th>\n",
              "    </tr>\n",
              "  </thead>\n",
              "  <tbody>\n",
              "    <tr>\n",
              "      <th>0</th>\n",
              "      <td>Orhan Veli Kanık</td>\n",
              "      <td>ANLATAMIYORUM  \\nAğlasam sesimi duyar mısınız,...</td>\n",
              "    </tr>\n",
              "    <tr>\n",
              "      <th>1</th>\n",
              "      <td>Orhan Veli Kanık</td>\n",
              "      <td>AYRILIŞ \\nBaka kalırım giden geminin ardından;...</td>\n",
              "    </tr>\n",
              "    <tr>\n",
              "      <th>2</th>\n",
              "      <td>Orhan Veli Kanık</td>\n",
              "      <td>\\n</td>\n",
              "    </tr>\n",
              "    <tr>\n",
              "      <th>3</th>\n",
              "      <td>Orhan Veli Kanık</td>\n",
              "      <td>DELİKLİ ŞİİR \\nCep delik, cepken delik, \\nKol ...</td>\n",
              "    </tr>\n",
              "    <tr>\n",
              "      <th>4</th>\n",
              "      <td>Orhan Veli Kanık</td>\n",
              "      <td>\\n</td>\n",
              "    </tr>\n",
              "  </tbody>\n",
              "</table>\n",
              "</div>\n",
              "    <div class=\"colab-df-buttons\">\n",
              "\n",
              "  <div class=\"colab-df-container\">\n",
              "    <button class=\"colab-df-convert\" onclick=\"convertToInteractive('df-715776d4-ea60-4b19-9de0-51c0641b01a4')\"\n",
              "            title=\"Convert this dataframe to an interactive table.\"\n",
              "            style=\"display:none;\">\n",
              "\n",
              "  <svg xmlns=\"http://www.w3.org/2000/svg\" height=\"24px\" viewBox=\"0 -960 960 960\">\n",
              "    <path d=\"M120-120v-720h720v720H120Zm60-500h600v-160H180v160Zm220 220h160v-160H400v160Zm0 220h160v-160H400v160ZM180-400h160v-160H180v160Zm440 0h160v-160H620v160ZM180-180h160v-160H180v160Zm440 0h160v-160H620v160Z\"/>\n",
              "  </svg>\n",
              "    </button>\n",
              "\n",
              "  <style>\n",
              "    .colab-df-container {\n",
              "      display:flex;\n",
              "      gap: 12px;\n",
              "    }\n",
              "\n",
              "    .colab-df-convert {\n",
              "      background-color: #E8F0FE;\n",
              "      border: none;\n",
              "      border-radius: 50%;\n",
              "      cursor: pointer;\n",
              "      display: none;\n",
              "      fill: #1967D2;\n",
              "      height: 32px;\n",
              "      padding: 0 0 0 0;\n",
              "      width: 32px;\n",
              "    }\n",
              "\n",
              "    .colab-df-convert:hover {\n",
              "      background-color: #E2EBFA;\n",
              "      box-shadow: 0px 1px 2px rgba(60, 64, 67, 0.3), 0px 1px 3px 1px rgba(60, 64, 67, 0.15);\n",
              "      fill: #174EA6;\n",
              "    }\n",
              "\n",
              "    .colab-df-buttons div {\n",
              "      margin-bottom: 4px;\n",
              "    }\n",
              "\n",
              "    [theme=dark] .colab-df-convert {\n",
              "      background-color: #3B4455;\n",
              "      fill: #D2E3FC;\n",
              "    }\n",
              "\n",
              "    [theme=dark] .colab-df-convert:hover {\n",
              "      background-color: #434B5C;\n",
              "      box-shadow: 0px 1px 3px 1px rgba(0, 0, 0, 0.15);\n",
              "      filter: drop-shadow(0px 1px 2px rgba(0, 0, 0, 0.3));\n",
              "      fill: #FFFFFF;\n",
              "    }\n",
              "  </style>\n",
              "\n",
              "    <script>\n",
              "      const buttonEl =\n",
              "        document.querySelector('#df-715776d4-ea60-4b19-9de0-51c0641b01a4 button.colab-df-convert');\n",
              "      buttonEl.style.display =\n",
              "        google.colab.kernel.accessAllowed ? 'block' : 'none';\n",
              "\n",
              "      async function convertToInteractive(key) {\n",
              "        const element = document.querySelector('#df-715776d4-ea60-4b19-9de0-51c0641b01a4');\n",
              "        const dataTable =\n",
              "          await google.colab.kernel.invokeFunction('convertToInteractive',\n",
              "                                                    [key], {});\n",
              "        if (!dataTable) return;\n",
              "\n",
              "        const docLinkHtml = 'Like what you see? Visit the ' +\n",
              "          '<a target=\"_blank\" href=https://colab.research.google.com/notebooks/data_table.ipynb>data table notebook</a>'\n",
              "          + ' to learn more about interactive tables.';\n",
              "        element.innerHTML = '';\n",
              "        dataTable['output_type'] = 'display_data';\n",
              "        await google.colab.output.renderOutput(dataTable, element);\n",
              "        const docLink = document.createElement('div');\n",
              "        docLink.innerHTML = docLinkHtml;\n",
              "        element.appendChild(docLink);\n",
              "      }\n",
              "    </script>\n",
              "  </div>\n",
              "\n",
              "\n",
              "<div id=\"df-854eddfa-2a61-4c23-9560-dac345828fd3\">\n",
              "  <button class=\"colab-df-quickchart\" onclick=\"quickchart('df-854eddfa-2a61-4c23-9560-dac345828fd3')\"\n",
              "            title=\"Suggest charts\"\n",
              "            style=\"display:none;\">\n",
              "\n",
              "<svg xmlns=\"http://www.w3.org/2000/svg\" height=\"24px\"viewBox=\"0 0 24 24\"\n",
              "     width=\"24px\">\n",
              "    <g>\n",
              "        <path d=\"M19 3H5c-1.1 0-2 .9-2 2v14c0 1.1.9 2 2 2h14c1.1 0 2-.9 2-2V5c0-1.1-.9-2-2-2zM9 17H7v-7h2v7zm4 0h-2V7h2v10zm4 0h-2v-4h2v4z\"/>\n",
              "    </g>\n",
              "</svg>\n",
              "  </button>\n",
              "\n",
              "<style>\n",
              "  .colab-df-quickchart {\n",
              "      --bg-color: #E8F0FE;\n",
              "      --fill-color: #1967D2;\n",
              "      --hover-bg-color: #E2EBFA;\n",
              "      --hover-fill-color: #174EA6;\n",
              "      --disabled-fill-color: #AAA;\n",
              "      --disabled-bg-color: #DDD;\n",
              "  }\n",
              "\n",
              "  [theme=dark] .colab-df-quickchart {\n",
              "      --bg-color: #3B4455;\n",
              "      --fill-color: #D2E3FC;\n",
              "      --hover-bg-color: #434B5C;\n",
              "      --hover-fill-color: #FFFFFF;\n",
              "      --disabled-bg-color: #3B4455;\n",
              "      --disabled-fill-color: #666;\n",
              "  }\n",
              "\n",
              "  .colab-df-quickchart {\n",
              "    background-color: var(--bg-color);\n",
              "    border: none;\n",
              "    border-radius: 50%;\n",
              "    cursor: pointer;\n",
              "    display: none;\n",
              "    fill: var(--fill-color);\n",
              "    height: 32px;\n",
              "    padding: 0;\n",
              "    width: 32px;\n",
              "  }\n",
              "\n",
              "  .colab-df-quickchart:hover {\n",
              "    background-color: var(--hover-bg-color);\n",
              "    box-shadow: 0 1px 2px rgba(60, 64, 67, 0.3), 0 1px 3px 1px rgba(60, 64, 67, 0.15);\n",
              "    fill: var(--button-hover-fill-color);\n",
              "  }\n",
              "\n",
              "  .colab-df-quickchart-complete:disabled,\n",
              "  .colab-df-quickchart-complete:disabled:hover {\n",
              "    background-color: var(--disabled-bg-color);\n",
              "    fill: var(--disabled-fill-color);\n",
              "    box-shadow: none;\n",
              "  }\n",
              "\n",
              "  .colab-df-spinner {\n",
              "    border: 2px solid var(--fill-color);\n",
              "    border-color: transparent;\n",
              "    border-bottom-color: var(--fill-color);\n",
              "    animation:\n",
              "      spin 1s steps(1) infinite;\n",
              "  }\n",
              "\n",
              "  @keyframes spin {\n",
              "    0% {\n",
              "      border-color: transparent;\n",
              "      border-bottom-color: var(--fill-color);\n",
              "      border-left-color: var(--fill-color);\n",
              "    }\n",
              "    20% {\n",
              "      border-color: transparent;\n",
              "      border-left-color: var(--fill-color);\n",
              "      border-top-color: var(--fill-color);\n",
              "    }\n",
              "    30% {\n",
              "      border-color: transparent;\n",
              "      border-left-color: var(--fill-color);\n",
              "      border-top-color: var(--fill-color);\n",
              "      border-right-color: var(--fill-color);\n",
              "    }\n",
              "    40% {\n",
              "      border-color: transparent;\n",
              "      border-right-color: var(--fill-color);\n",
              "      border-top-color: var(--fill-color);\n",
              "    }\n",
              "    60% {\n",
              "      border-color: transparent;\n",
              "      border-right-color: var(--fill-color);\n",
              "    }\n",
              "    80% {\n",
              "      border-color: transparent;\n",
              "      border-right-color: var(--fill-color);\n",
              "      border-bottom-color: var(--fill-color);\n",
              "    }\n",
              "    90% {\n",
              "      border-color: transparent;\n",
              "      border-bottom-color: var(--fill-color);\n",
              "    }\n",
              "  }\n",
              "</style>\n",
              "\n",
              "  <script>\n",
              "    async function quickchart(key) {\n",
              "      const quickchartButtonEl =\n",
              "        document.querySelector('#' + key + ' button');\n",
              "      quickchartButtonEl.disabled = true;  // To prevent multiple clicks.\n",
              "      quickchartButtonEl.classList.add('colab-df-spinner');\n",
              "      try {\n",
              "        const charts = await google.colab.kernel.invokeFunction(\n",
              "            'suggestCharts', [key], {});\n",
              "      } catch (error) {\n",
              "        console.error('Error during call to suggestCharts:', error);\n",
              "      }\n",
              "      quickchartButtonEl.classList.remove('colab-df-spinner');\n",
              "      quickchartButtonEl.classList.add('colab-df-quickchart-complete');\n",
              "    }\n",
              "    (() => {\n",
              "      let quickchartButtonEl =\n",
              "        document.querySelector('#df-854eddfa-2a61-4c23-9560-dac345828fd3 button');\n",
              "      quickchartButtonEl.style.display =\n",
              "        google.colab.kernel.accessAllowed ? 'block' : 'none';\n",
              "    })();\n",
              "  </script>\n",
              "</div>\n",
              "\n",
              "    </div>\n",
              "  </div>\n"
            ],
            "application/vnd.google.colaboratory.intrinsic+json": {
              "type": "dataframe",
              "variable_name": "full_data",
              "summary": "{\n  \"name\": \"full_data\",\n  \"rows\": 63,\n  \"fields\": [\n    {\n      \"column\": \"\\u015eair\",\n      \"properties\": {\n        \"dtype\": \"category\",\n        \"num_unique_values\": 2,\n        \"samples\": [\n          \"Oktay R\\u0131fat\",\n          \"Orhan Veli Kan\\u0131k\"\n        ],\n        \"semantic_type\": \"\",\n        \"description\": \"\"\n      }\n    },\n    {\n      \"column\": \"\\u015eiir\",\n      \"properties\": {\n        \"dtype\": \"string\",\n        \"num_unique_values\": 49,\n        \"samples\": [\n          \"YA\\u015eAMAK\\nBiliyorum, kolay de\\u011fil ya\\u015famak, \\nG\\u00f6n\\u00fcl verip t\\u00fcrk\\u00fc s\\u00f6ylemek yar \\u00fcst\\u00fcne; \\nY\\u0131ld\\u0131z \\u0131\\u015f\\u0131\\u011f\\u0131nda dola\\u015f\\u0131p geceleri, \\nG\\u00fcnd\\u00fczleri g\\u00fcn \\u0131\\u015f\\u0131\\u011f\\u0131nda \\u0131s\\u0131nmak; \\n\\u015e\\u00f6yle bir f\\u0131rsat bulup yar\\u0131m g\\u00fcn, \\nYan gelebilmek \\u00c7aml\\u0131ca tepesine... \\n-Bin t\\u00fcrl\\u00fc mavi akar Bo\\u011faz'dan- \\nHer \\u015feyi unutabilmek maviler i\\u00e7inde. \\n\\n\\nBiliyorum, kolay de\\u011fil ya\\u015famak; \\nAma i\\u015fte \\nBir \\u00f6l\\u00fcn\\u00fcn hala yata\\u011f\\u0131 s\\u0131cak, \\nBirinin saati i\\u015fliyor kolunda. \\nYa\\u015famak kolay de\\u011fil ya karde\\u015fler, \\n\\u00d6lmek de de\\u011fil; \\n\\nKolay de\\u011fil bu d\\u00fcnyadan ayr\\u0131lmak. \",\n          \"V\\u0130DALAR\\n\\u0130\\u015f\\u00e7i demir dikmeleri boyuyor duvar\\u0131n \\u00fcst\\u00fcne binmi\\u015f,\\nboya kutusuna banarak usulca f\\u0131r\\u00e7ay\\u0131. G\\u00fcndeli\\u011fi ka\\u00e7a?\\nDoyarlar m\\u0131 dersiniz \\u00e7oluk \\u00e7ocuk! Tahtalar\\u0131 \\u00e7akmak i\\u00e7in\\nusta vida almaya gitti motosikletle, kavaklar\\u0131n alt\\u0131ndan.\\nBir toz bulutu y\\u00fckseliyor upuzun ard\\u0131nda. Kasabaya vard\\u0131\\u011f\\u0131nda\\nnalbura girecek: \\\"Vida, diyecek, be\\u015flik,\\\" k\\u00fcf kokan d\\u00fckk\\u00e2nda.\\nBir kutunun i\\u00e7inden vidalar \\u00e7\\u0131karacak nalbur, uzatacak.\\nAl\\u0131\\u015fveri\\u015fle d\\u00f6n\\u00fcyor d\\u00fcnya, mevsimler gelip ge\\u00e7iyor.\\nTahtalar d\\u00f6k\\u00fcl\\u00fcyor ne denli sa\\u011flam \\u00e7ak\\u0131lsa y\\u0131llardan sonra\\nve otlar, dikenler, \\u0131s\\u0131rganlar b\\u00fcr\\u00fcyor duvar diplerini.\\nAma \\u015fu bulutlar, mavili\\u011fin i\\u00e7inde,y\\u0131llardan sonra da\\ngelip ge\\u00e7ecek g\\u00f6\\u00e7\\u00fck ya da yeni duvarlar\\u0131n \\u00fcst\\u00fcnden.\\n-Be\\u015flik vida k\\u0131sa d\\u00fc\\u015fer, ustam, alt\\u0131l\\u0131k ister bu tahtalara,\\ng\\u00fcn\\u00fcn birinde yine \\u00e7\\u00fcr\\u00fcr d\\u00fc\\u015ferler ya, \\u015fimdilik.\"\n        ],\n        \"semantic_type\": \"\",\n        \"description\": \"\"\n      }\n    }\n  ]\n}"
            }
          },
          "metadata": {},
          "execution_count": 61
        }
      ]
    },
    {
      "cell_type": "code",
      "source": [
        "full_data.shape"
      ],
      "metadata": {
        "colab": {
          "base_uri": "https://localhost:8080/"
        },
        "id": "sp-Ymsu1I2ZJ",
        "outputId": "1f7997fa-93c0-4bda-fffc-c5ec01b95650"
      },
      "execution_count": null,
      "outputs": [
        {
          "output_type": "execute_result",
          "data": {
            "text/plain": [
              "(63, 2)"
            ]
          },
          "metadata": {},
          "execution_count": 62
        }
      ]
    },
    {
      "cell_type": "code",
      "source": [
        "full_data.isna().sum()"
      ],
      "metadata": {
        "colab": {
          "base_uri": "https://localhost:8080/"
        },
        "id": "vir3PiucI5nw",
        "outputId": "0011ca4b-bb3b-4db6-ab42-55ed98e9f012"
      },
      "execution_count": null,
      "outputs": [
        {
          "output_type": "execute_result",
          "data": {
            "text/plain": [
              "Şair    0\n",
              "Şiir    0\n",
              "dtype: int64"
            ]
          },
          "metadata": {},
          "execution_count": 63
        }
      ]
    },
    {
      "cell_type": "code",
      "source": [
        "for i,row in full_data.iterrows():\n",
        "  if len(row[\"Şiir\"].replace(\" \",\"\"))<10:\n",
        "    print(i,row)"
      ],
      "metadata": {
        "colab": {
          "base_uri": "https://localhost:8080/"
        },
        "id": "o10ZObJhI9cZ",
        "outputId": "27063c03-4500-4609-8aa6-38a01397edbd"
      },
      "execution_count": null,
      "outputs": [
        {
          "output_type": "stream",
          "name": "stdout",
          "text": [
            "2 Şair    Orhan Veli Kanık\n",
            "Şiir                \\n  \n",
            "Name: 2, dtype: object\n",
            "4 Şair          Orhan Veli Kanık\n",
            "Şiir                       \\n \n",
            "Name: 4, dtype: object\n",
            "2 Şair    Orhan Veli Kanık\n",
            "Şiir                \\n  \n",
            "Name: 2, dtype: object\n",
            "4 Şair          Orhan Veli Kanık\n",
            "Şiir                       \\n \n",
            "Name: 4, dtype: object\n"
          ]
        }
      ]
    },
    {
      "cell_type": "code",
      "source": [
        "full_data = full_data.drop([2,4],axis=0).reset_index(drop=True)"
      ],
      "metadata": {
        "id": "M0aGBQAMJ5Du"
      },
      "execution_count": null,
      "outputs": []
    },
    {
      "cell_type": "code",
      "source": [
        "full_data.to_csv(\"Garip_Siirleri.csv\")"
      ],
      "metadata": {
        "id": "dUjdMs2lKctn"
      },
      "execution_count": null,
      "outputs": []
    }
  ]
}